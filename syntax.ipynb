{
 "cells": [
  {
   "cell_type": "code",
   "execution_count": 2,
   "metadata": {},
   "outputs": [],
   "source": [
    "# class syntax\n",
    "class ClassName(object):\n",
    "    \n",
    "    \"\"\"docstring for ClassName this is a class\"\"\"\n",
    "    \n",
    "    def __init__(self, *args):\n",
    "        super(ClassName, self).__init__()\n",
    "        self.arg = args\n",
    "    \n",
    "    def __repro__(self):\n",
    "        return \"Something to represent this object is a string\"\n",
    "    \n",
    "    def other_method(self, *args):\n",
    "        \n",
    "        # do something else\n",
    "        return \"Something else\""
   ]
  },
  {
   "cell_type": "code",
   "execution_count": 3,
   "metadata": {},
   "outputs": [],
   "source": [
    "# exemplo\n",
    "\n",
    "class Horse(object):\n",
    "\n",
    "    \"\"\"Horse represents a Horse\"\"\"\n",
    "\n",
    "    species = \"Equus ferus caballus\"\n",
    "\n",
    "    def _init_(self,color,weight,wild=False):\n",
    "        self.color = color\n",
    "        self.weight = weight\n",
    "        self.wild = wild\n",
    "\n",
    "    def _repr_(self):\n",
    "        return \"%s horse weighing %f and wild status is %b\" % (self.color,self.weight,self.wild)\n",
    "\n",
    "    def make_sound(self):\n",
    "        print \"neighhhh\" \n",
    "\n",
    "    def movement(self):\n",
    "        return \"walk\""
   ]
  },
  {
   "cell_type": "code",
   "execution_count": 4,
   "metadata": {},
   "outputs": [],
   "source": [
    "# syntax\n",
    "\n",
    "class ClassName(SuperClass):\n",
    "    # same as above\n",
    "    # use 'super' keyword to get from above"
   ]
  },
  {
   "cell_type": "code",
   "execution_count": 5,
   "metadata": {},
   "outputs": [],
   "source": [
    "# exemplo\n",
    "\n",
    "class RaceHorse(Horse):\n",
    "    \n",
    "    \"\"\"A faster horse that inherits from Horse\"\"\"\n",
    "    \n",
    "    def movement(self):\n",
    "        return \"run\"\n",
    "    \n",
    "    def movement_slow(self):\n",
    "        return super(Horse,self).movement()\n",
    "    \n",
    "    def _repr_(self):\n",
    "        return \"%s race horse weighing %f and wild status is %b\" (self.color,self.weight,self.wild)"
   ]
  },
  {
   "cell_type": "code",
   "execution_count": 14,
   "metadata": {},
   "outputs": [],
   "source": [
    "# syntax dictionaries\n",
    "\n",
    "dict() #creates new empty dictionary\n",
    "{} #creates new empty dictionary"
   ]
  },
  {
   "cell_type": "code",
   "execution_count": 15,
   "metadata": {},
   "outputs": [],
   "source": [
    "# exemplo dictionaries\n",
    "\n",
    "my_dict = {}\n",
    "\n",
    "content_of_value1 = \"abcd\"\n",
    "content_of_value2 = \"wxyz\"\n",
    "\n",
    "my_dict.update({\"key_name1\":content_of_value1})\n",
    "my_dict.update({\"key_name2\":content_of_value2})\n",
    "my_dict\n",
    "\n",
    "{'key_name1':\"abcd\", 'key_name2':\"wxyz\"}\n",
    "my_dict.get(\"key_name2\")\n",
    "\n",
    "\"wxyz\""
   ]
  },
  {
   "cell_type": "code",
   "execution_count": 16,
   "metadata": {},
   "outputs": [],
   "source": [
    "# syntax\n",
    "\n",
    "{key1:value1,key2:value2}"
   ]
  },
  {
   "cell_type": "code",
   "execution_count": 17,
   "metadata": {},
   "outputs": [],
   "source": [
    "# exemplo\n",
    "\n",
    "my_dict = {\"key1\":[1,2,3],\"key2\":\"I am a string\",123:456}\n",
    "my_dict[\"key1\"] #[1,2,3]\n",
    "my_dict[123] #456\n",
    "my_dict[\"new key\"] = \"New value\"\n",
    "\n",
    "print(my_dict)"
   ]
  },
  {
   "cell_type": "code",
   "execution_count": 19,
   "metadata": {},
   "outputs": [],
   "source": [
    "# syntax functions\n",
    "\n",
    "def function_name(parameters):\n",
    "  # Some code here"
   ]
  },
  {
   "cell_type": "code",
   "execution_count": 20,
   "metadata": {},
   "outputs": [],
   "source": [
    "# exemplo functions\n",
    "\n",
    "def add_two(a, b):\n",
    "  c = a + b\n",
    "  return c\n",
    "\n",
    "# or without the interim assignment to c\n",
    "def add_two(a, b):\n",
    "  return a + b"
   ]
  },
  {
   "cell_type": "code",
   "execution_count": 21,
   "metadata": {},
   "outputs": [],
   "source": [
    "# syntax functions\n",
    "\n",
    "def function_name(parameters, named_default_parameter=value):"
   ]
  },
  {
   "cell_type": "code",
   "execution_count": 22,
   "metadata": {},
   "outputs": [],
   "source": [
    "# exemplo functions\n",
    "\n",
    "def shout(exclamation=\"Hey!\"):\n",
    "  print exclamation\n",
    "\n",
    "shout() # Displays \"Hey!\"\n",
    "\n",
    "shout(\"Watch Out!\") # Displays \"Watch Out!\""
   ]
  },
  {
   "cell_type": "code",
   "execution_count": 24,
   "metadata": {},
   "outputs": [],
   "source": [
    "# exemplo functions objects\n",
    "\n",
    "# Storing function objects in variables:\n",
    "\n",
    "def say_hello(name):\n",
    "  return \"Hello, \" + name\n",
    "\n",
    "foo = say_hello(\"Alice\")\n",
    "# Now the value of 'foo' is \"Hello, Alice\"\n",
    "\n",
    "fun = say_hello\n",
    "# Now the value of 'fun' is a function object we can use like the original function:\n",
    "bar = fun(\"Bob\")\n",
    "# Now the value of 'bar' is \"Hello, Bob\""
   ]
  },
  {
   "cell_type": "code",
   "execution_count": 25,
   "metadata": {},
   "outputs": [],
   "source": [
    "# exemplo functions objects\n",
    "\n",
    "# Returning functions from functions\n",
    "\n",
    "# A simple function\n",
    "def say_hello(greeter, greeted):\n",
    "  return \"Hello, \" + greeted + \", I'm \" + greeter + \".\"\n",
    "\n",
    "# We can use it like this:\n",
    "print say_hello(\"Alice\", \"Bob\") # Displays \"Hello, Bob, I'm Alice.\"\n",
    "\n",
    "# We can also use it in a function:\n",
    "def produce_greeting_from_alice(greeted):\n",
    "  return say_hello(\"Alice\", greeted)\n",
    "\n",
    "print produce_greeting_from_alice(\"Bob\") # Displays \"Hello, Bob, I'm Alice.\"\n",
    "\n",
    "# We can also return a function from a function by nesting them:\n",
    "def produce_greeting_from(greeter):\n",
    "  def greet(greeted):\n",
    "    return say_hello(greeter, greeted)\n",
    "  return greet\n",
    "\n",
    "# Here we create a greeting function for Eve:\n",
    "produce_greeting_from_eve = produce_greeting_from(\"Eve\")\n",
    "# 'produce_greeting_from_eve' is now a function:\n",
    "print produce_greeting_from_eve(\"Alice\") # Displays \"Hello, Alice, I'm Eve.\"\n",
    "\n",
    "# You can also invoke the function directly if you want:\n",
    "print produce_greeting_from(\"Bob\")(\"Eve\") # Displays \"Hello, Eve, I'm Bob.\""
   ]
  },
  {
   "cell_type": "code",
   "execution_count": 26,
   "metadata": {},
   "outputs": [],
   "source": [
    "# exemplo functions objects\n",
    "\n",
    "# Using functions in a dictionary instead of long if statements:\n",
    "\n",
    "# Let's say we have a variable called 'current_action' and we want stuff to happen based on its value:\n",
    "\n",
    "if current_action == 'PAUSE':\n",
    "  pause()\n",
    "elif current_action == 'RESTART':\n",
    "  restart()\n",
    "elif current_action == 'RESUME':\n",
    "  resume()\n",
    "\n",
    "# This can get long and complicated if there are many values.\n",
    "# Instead, we can use a dictionary:\n",
    "\n",
    "response_dict = {\n",
    "  'PAUSE': pause,\n",
    "  'RESTART': restart,\n",
    "  'RESUME': resume\n",
    "}\n",
    "\n",
    "response_dict[current_action]() # Gets the correct function from response_dict and calls it"
   ]
  },
  {
   "cell_type": "code",
   "execution_count": 28,
   "metadata": {},
   "outputs": [],
   "source": [
    "# syntax length\n",
    "\n",
    "len(iterable)"
   ]
  },
  {
   "cell_type": "code",
   "execution_count": 29,
   "metadata": {},
   "outputs": [],
   "source": [
    "# exemplo length\n",
    "\n",
    "my_list = [0,4,5,2,3,4,5]\n",
    "len(my_list)\n",
    "\n",
    "\n",
    "my_string = 'abcdef'\n",
    "len(my_string)"
   ]
  },
  {
   "cell_type": "code",
   "execution_count": 31,
   "metadata": {},
   "outputs": [],
   "source": [
    "# syntax list comprehension\n",
    "\n",
    "[variable for variable in iterable condition]\n",
    "[variable for variable in iterable]"
   ]
  },
  {
   "cell_type": "code",
   "execution_count": 32,
   "metadata": {},
   "outputs": [],
   "source": [
    "# exemplo list comprehension\n",
    "\n",
    "x_list = [1,2,3,4,5,6,7]\n",
    "even_list = [num for num in x_list if (num % 2 == 0)]\n",
    "even_list\n",
    "\n",
    "m_list = ['AB', 'AC', 'DA', 'FG', 'LB']\n",
    "A_list = [duo for duo in m_list if ('A' in duo)]\n",
    "A_list"
   ]
  },
  {
   "cell_type": "code",
   "execution_count": 34,
   "metadata": {},
   "outputs": [],
   "source": [
    "# Exemplo list\n",
    "\n",
    ">> x = [1, 2, 3, 4]\n",
    ">> y = ['spam', 'eggs']\n",
    ">> x\n",
    "[1, 2, 3, 4]\n",
    ">> y\n",
    "['spam','eggs']\n",
    "\n",
    ">> y.append('mash')\n",
    ">> y\n",
    "['spam', 'eggs', 'mash']\n",
    "\n",
    ">> y += ['beans']\n",
    ">> y\n",
    "['spam', 'eggs', 'mash', 'beans']"
   ]
  },
  {
   "cell_type": "code",
   "execution_count": 36,
   "metadata": {},
   "outputs": [],
   "source": [
    "# for loop\n",
    "\n",
    "for i in range(0, 3):\n",
    "    print(i*2)\n"
   ]
  },
  {
   "cell_type": "code",
   "execution_count": 37,
   "metadata": {},
   "outputs": [],
   "source": [
    "# exemplo for loop\n",
    "\n",
    "m_list = [\"Sir\", \"Lancelot\", \"Coconuts\"]\n",
    "for item in m_list:\n",
    "    print(item)\n",
    "\n",
    "w_string = \"Swift\"\n",
    "for letter in w_string:\n",
    "    print(letter)"
   ]
  },
  {
   "cell_type": "code",
   "execution_count": 39,
   "metadata": {},
   "outputs": [],
   "source": [
    "# syntax while loop\n",
    "\n",
    "while condition:\n",
    "    //do something"
   ]
  },
  {
   "cell_type": "code",
   "execution_count": 40,
   "metadata": {},
   "outputs": [],
   "source": [
    "# exemplo while loop\n",
    "\n",
    "looping_needed = True\n",
    "while looping_needed:\n",
    "    # some operation on data\n",
    "    \n",
    "    if condition:\n",
    "         looping_needed = False"
   ]
  },
  {
   "cell_type": "code",
   "execution_count": 42,
   "metadata": {},
   "outputs": [],
   "source": [
    "# exemplo print \n",
    "\n",
    "print(\"some text here\")"
   ]
  },
  {
   "cell_type": "code",
   "execution_count": 44,
   "metadata": {},
   "outputs": [],
   "source": [
    "# syntax range\n",
    "    \n",
    "range(terminal)\n",
    "range(start, terminal)\n",
    "range(start, terminal, step_size)"
   ]
  },
  {
   "cell_type": "code",
   "execution_count": 45,
   "metadata": {},
   "outputs": [],
   "source": [
    "# exemplo range\n",
    "\n",
    "range(4)\n",
    "[0, 1, 2, 3]\n",
    "\n",
    "range(2, 8)\n",
    "[2, 3, 4, 5, 6, 7]\n",
    "\n",
    "range(2, 13, 3)\n",
    "[2, 5, 8, 11]"
   ]
  },
  {
   "cell_type": "code",
   "execution_count": 47,
   "metadata": {},
   "outputs": [],
   "source": [
    "# exemplo sets\n",
    "\n",
    "new_set = {1, 2, 3, 4, 4, 4,'A', 'B', 'B', 'C'}\n",
    "new_set\n",
    "\n",
    "dup_list = [1,1,2,2,2,3,4,55,5,5,6,7,8,8]\n",
    "set_from_list = set(dup_list)"
   ]
  },
  {
   "cell_type": "code",
   "execution_count": 49,
   "metadata": {},
   "outputs": [],
   "source": [
    "# exemplo slice\n",
    "\n",
    "x = [1, 2, 3, 4]\n",
    "x[2:3]"
   ]
  },
  {
   "cell_type": "code",
   "execution_count": 51,
   "metadata": {},
   "outputs": [],
   "source": [
    "# syntax str\n",
    "\n",
    "str(object)"
   ]
  },
  {
   "cell_type": "code",
   "execution_count": 52,
   "metadata": {},
   "outputs": [],
   "source": [
    "# exemplo str\n",
    "\n",
    "my_var = 123 \n",
    "my_var\n",
    "\n",
    "str(my_var)"
   ]
  },
  {
   "cell_type": "code",
   "execution_count": 54,
   "metadata": {},
   "outputs": [],
   "source": [
    "# exemplo string\n",
    "\n",
    "my_string1 = \"this is a valid string\"\n",
    "my_string2 = 'this is also a valid string'\n",
    "my_string3 = 'this is' + ' ' + 'also' + ' ' + 'a string'\n",
    "my_string3"
   ]
  },
  {
   "cell_type": "code",
   "execution_count": 56,
   "metadata": {},
   "outputs": [],
   "source": [
    "# exemplo tuple\n",
    "\n",
    "x = (1, 2, 3, 4)\n",
    "y = ('spam', 'eggs')"
   ]
  },
  {
   "cell_type": "code",
   "execution_count": 58,
   "metadata": {},
   "outputs": [],
   "source": [
    "# exemplo tuple assignment\n",
    "\n",
    "name, age = (\"Alice\", 19)\n",
    "# Now name has the value \"Alice\" and age has the value 19"
   ]
  },
  {
   "cell_type": "code",
   "execution_count": 60,
   "metadata": {},
   "outputs": [],
   "source": [
    "# exemplo variables\n",
    "\n",
    "# definindo variável\n",
    "var = 42\n",
    "print(var)"
   ]
  }
 ],
 "metadata": {
  "kernelspec": {
   "display_name": "Python 3.10.5 64-bit (system)",
   "language": "python",
   "name": "python3"
  },
  "language_info": {
   "codemirror_mode": {
    "name": "ipython",
    "version": 3
   },
   "file_extension": ".py",
   "mimetype": "text/x-python",
   "name": "python",
   "nbconvert_exporter": "python",
   "pygments_lexer": "ipython3",
   "version": "3.10.5"
  },
  "orig_nbformat": 4,
  "vscode": {
   "interpreter": {
    "hash": "74af3d2f25f1e46ebd2903d59225d79e4675ec224d56c01fc30cd168c2010d53"
   }
  }
 },
 "nbformat": 4,
 "nbformat_minor": 2
}
